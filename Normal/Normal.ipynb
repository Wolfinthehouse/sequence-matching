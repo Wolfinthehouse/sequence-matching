{
 "cells": [
  {
   "cell_type": "code",
   "execution_count": 1,
   "id": "8569551c",
   "metadata": {},
   "outputs": [],
   "source": [
    "import numpy as np"
   ]
  },
  {
   "cell_type": "code",
   "execution_count": 2,
   "id": "380697aa",
   "metadata": {},
   "outputs": [],
   "source": [
    "def readinput(file):\n",
    "    with open(file) as f:\n",
    "        contents =  f.readlines()\n",
    "        \n",
    "    testcases = []\n",
    "    case = []\n",
    "    for line in contents:\n",
    "        word = line.split('\\n')[0]\n",
    "        if word.isalpha():\n",
    "            testcases.append(case)\n",
    "            case = []\n",
    "            case.append(word)\n",
    "        else:\n",
    "            case.append(word)\n",
    "    testcases.append(case)\n",
    "    testcases.pop(0)\n",
    "    \n",
    "    finalStrings = []\n",
    "    for case in testcases:\n",
    "        baseString = \"\"\n",
    "        for index in range(len(case)):\n",
    "            if index==0:\n",
    "                baseString = case[index]\n",
    "            else:\n",
    "                baseString = baseString[0:int(case[index])+1] +  baseString + baseString[int(case[index])+1:]\n",
    "        finalStrings.append(baseString)\n",
    "    return finalStrings[0], finalStrings[1]"
   ]
  },
  {
   "cell_type": "code",
   "execution_count": 43,
   "id": "e1e400fe",
   "metadata": {},
   "outputs": [],
   "source": [
    "string1, string2 = readinput(\"input2.txt\")"
   ]
  },
  {
   "cell_type": "code",
   "execution_count": null,
   "id": "59197c8f",
   "metadata": {},
   "outputs": [],
   "source": []
  },
  {
   "cell_type": "code",
   "execution_count": 44,
   "id": "14c4793a",
   "metadata": {},
   "outputs": [],
   "source": [
    "char2index = {'A':0 , 'C':1, 'G':2, 'T':3}\n",
    "alphas = np.array([[0, 110, 48, 94], [110, 0, 118, 48], [48, 118, 0, 110], [94, 48, 110, 0]], np.int32)"
   ]
  },
  {
   "cell_type": "code",
   "execution_count": 45,
   "id": "bb56b11a",
   "metadata": {},
   "outputs": [],
   "source": [
    "#print(alphas)"
   ]
  },
  {
   "cell_type": "code",
   "execution_count": 46,
   "id": "ee8cfb00",
   "metadata": {},
   "outputs": [],
   "source": [
    "delta = 30"
   ]
  },
  {
   "cell_type": "code",
   "execution_count": 47,
   "id": "f3ce8131",
   "metadata": {},
   "outputs": [],
   "source": [
    "def sequenceAlignment(string1, string2, alphas, delta):\n",
    "    m = len(string1)\n",
    "    n = len(string2)\n",
    "    \n",
    "    table = [[0 for i in range(n+2)] for i in range(m+2)]\n",
    "\n",
    "    for i in range(n+2):\n",
    "        table[0][i] = i*delta\n",
    "    for j in range(m+2):\n",
    "        table[j][0] = j*delta   \n",
    "    #print(table)\n",
    "    \n",
    "    for i in range(1,m+1):\n",
    "        for j in range(1,n+1):\n",
    "            if(string1[i-1]==string2[j-1]):\n",
    "                table[i][j] = table[i-1][j-1]\n",
    "            else:\n",
    "                table[i][j] = min(table[i-1][j-1] + alphas[char2index[string1[i-1]]][char2index[string2[j-1]]] , table[i-1][j] + delta, table[i][j-1] + delta)\n",
    "                \n",
    "    #print(table)\n",
    "    \n",
    "    l = m + n\n",
    "    \n",
    "    string1pos = l\n",
    "    string2pos = l\n",
    "    \n",
    "    string1ans = [0 for i in range(l+1)]\n",
    "    string2ans = [0 for i in range(l+1)]\n",
    "        \n",
    "    i = m \n",
    "    j = n\n",
    "        \n",
    "    while(not(i==0 or j==0)):\n",
    "        if(string1[i-1] == string2[j-1]):\n",
    "            string1ans[string1pos] = string1[i-1]\n",
    "            string1pos -= 1\n",
    "            string2ans[string2pos] = string2[j-1]\n",
    "            string2pos -= 1\n",
    "            i-=1\n",
    "            j-=1\n",
    "        elif(table[i-1][j-1] + alphas[char2index[string1[i-1]]][char2index[string2[j-1]]] == table[i][j]):\n",
    "            string1ans[string1pos] = string1[i-1]\n",
    "            string1pos -= 1\n",
    "            string2ans[string2pos] = string2[j-1]\n",
    "            string2pos -= 1\n",
    "            i-=1\n",
    "            j-=1\n",
    "        elif(table[i-1][j] + delta == table[i][j]):\n",
    "            string1ans[string1pos] = string1[i-1]\n",
    "            string1pos -= 1\n",
    "            string2ans[string2pos] = '_'\n",
    "            string2pos -= 1\n",
    "            i-=1\n",
    "        elif(table[i][j-1] + delta == table[i][j]):\n",
    "            string1ans[string1pos] = '_'\n",
    "            string1pos -= 1\n",
    "            string2ans[string2pos] = string2[j-1]\n",
    "            string2pos -= 1\n",
    "            j-=1\n",
    "            \n",
    "    while(string1pos>0):\n",
    "        if(i>0):\n",
    "            i -= 1\n",
    "            string1ans[string1pos] = string1[i]\n",
    "            string1pos -= 1\n",
    "        else:\n",
    "            string1ans[string1pos] = '_'\n",
    "            string1pos -= 1\n",
    "    \n",
    "    while(string2pos>0):\n",
    "        if(j>0):\n",
    "            j -= 1\n",
    "            string2ans[string2pos] = string2[j]\n",
    "            string2pos -= 1\n",
    "        else:\n",
    "            string2ans[string2pos] = '_'\n",
    "            string2pos -= 1\n",
    "            \n",
    "    idd = 1\n",
    "    \n",
    "    for i in range(l,0,-1):\n",
    "        if(string2ans[i] == '_' and string1ans[i] == '_'):\n",
    "            idd = i + 1\n",
    "            break\n",
    "        \n",
    "    print(\"Min Penalty : \" + str(table[m][n]))\n",
    "    \n",
    "    for i in range(idd,l+1):\n",
    "        print(string1ans[i],end='')\n",
    "    print(\"\")\n",
    "    \n",
    "    for i in range(idd,l+1):\n",
    "        print(string2ans[i],end='')\n",
    "    print(\"\")\n",
    "            "
   ]
  },
  {
   "cell_type": "code",
   "execution_count": 48,
   "id": "c90d02ee",
   "metadata": {},
   "outputs": [
    {
     "name": "stdout",
     "output_type": "stream",
     "text": [
      "Min Penalty : 1128\n",
      "__________T__T_A_T__T_A_TAC_G_C__GAC_G____C_GA_T__T_A_TACGCGAC_GCG\n",
      "ACACACTGACTACTGACTGGTGACTACTGACTGGACTGACTACTGACTGGTGACTAC_TGACTG_G\n"
     ]
    }
   ],
   "source": [
    "sequenceAlignment(string2,string1,alphas,delta)"
   ]
  },
  {
   "cell_type": "code",
   "execution_count": null,
   "id": "9d824667",
   "metadata": {},
   "outputs": [],
   "source": []
  },
  {
   "cell_type": "code",
   "execution_count": null,
   "id": "b0ec20d7",
   "metadata": {},
   "outputs": [],
   "source": []
  }
 ],
 "metadata": {
  "kernelspec": {
   "display_name": "Python 3 (ipykernel)",
   "language": "python",
   "name": "python3"
  },
  "language_info": {
   "codemirror_mode": {
    "name": "ipython",
    "version": 3
   },
   "file_extension": ".py",
   "mimetype": "text/x-python",
   "name": "python",
   "nbconvert_exporter": "python",
   "pygments_lexer": "ipython3",
   "version": "3.8.10"
  }
 },
 "nbformat": 4,
 "nbformat_minor": 5
}
